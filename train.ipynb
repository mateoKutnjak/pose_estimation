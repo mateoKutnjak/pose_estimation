{
 "cells": [
  {
   "cell_type": "code",
   "execution_count": 1,
   "metadata": {
    "id": "551u7Xxa2QsP",
    "colab_type": "code",
    "outputId": "e8495678-5496-4a5b-8a19-1d147614b1ae",
    "colab": {
     "base_uri": "https://localhost:8080/",
     "height": 63.0
    }
   },
   "outputs": [
    {
     "name": "stdout",
     "output_type": "stream",
     "text": [
      "fatal: destination path 'pose_estimation' already exists and is not an empty directory.\n"
     ]
    }
   ],
   "source": [
    "!git clone https://github.com/mateoKutnjak/pose_estimation.git"
   ]
  },
  {
   "cell_type": "code",
   "execution_count": 0,
   "metadata": {
    "id": "w9qGPvVQ5TX1",
    "colab_type": "code",
    "colab": {}
   },
   "outputs": [],
   "source": [
    "import sys\n",
    "sys.path.append('/content/pose_estimation')"
   ]
  },
  {
   "cell_type": "code",
   "execution_count": 0,
   "metadata": {
    "id": "70TeynVn2QsX",
    "colab_type": "code",
    "colab": {}
   },
   "outputs": [],
   "source": [
    "from google.colab import drive\n",
    "import models"
   ]
  },
  {
   "cell_type": "code",
   "execution_count": 7,
   "metadata": {
    "id": "7voqKnq82Qsc",
    "colab_type": "code",
    "outputId": "35ebfdcd-7f8e-46b2-a546-682af6994fa2",
    "colab": {
     "base_uri": "https://localhost:8080/",
     "height": 229.0
    }
   },
   "outputs": [
    {
     "name": "stdout",
     "output_type": "stream",
     "text": [
      "Go to this URL in a browser: https://accounts.google.com/o/oauth2/auth?client_id=947318989803-6bn6qk8qdgf4n4g3pfee6491hc0brc4i.apps.googleusercontent.com&redirect_uri=urn%3Aietf%3Awg%3Aoauth%3A2.0%3Aoob&scope=email%20https%3A%2F%2Fwww.googleapis.com%2Fauth%2Fdocs.test%20https%3A%2F%2Fwww.googleapis.com%2Fauth%2Fdrive%20https%3A%2F%2Fwww.googleapis.com%2Fauth%2Fdrive.photos.readonly%20https%3A%2F%2Fwww.googleapis.com%2Fauth%2Fpeopleapi.readonly&response_type=code\n",
      "\n",
      "Enter your authorization code:\n",
      "··········\n",
      "Mounted at /content/drive\n"
     ]
    }
   ],
   "source": [
    "drive.mount('/content/drive')"
   ]
  },
  {
   "cell_type": "code",
   "execution_count": 1,
   "metadata": {
    "id": "fqoDzscT2Qsj",
    "colab_type": "code",
    "colab": {}
   },
   "outputs": [],
   "source": [
    "_IMAGES_DIR = '/content/drive/My Drive/_images'\n",
    "_ANNOTATIONS_JSON_FILE = '/content/drive/My Drive/_annotations/annotations.json'\n",
    "IMAGES_DIR = '/content/drive/My Drive/images'\n",
    "ANNOTATIONS_JSON_FILE = '/content/drive/My Drive/annotations/annotations.json'\n",
    "LOG_DIR = '/content/drive/My Drive/logs'\n",
    "INPUT_SHAPE = (256, 256, 3)\n",
    "OUTPUT_SHAPE = (64, 64, 16)\n",
    "BATCH_SIZE = 8\n",
    "STACKS_NUM = 4\n",
    "EPOCHS = 10\n",
    "\n",
    "CHECKPOINT_EPOCH = None"
   ]
  },
  {
   "cell_type": "code",
   "execution_count": 0,
   "metadata": {
    "id": "GL52h_W02Qsp",
    "colab_type": "code",
    "colab": {}
   },
   "outputs": [],
   "source": [
    "config = tf.ConfigProto()\n",
    "config.gpu_options.allow_growth = True\n",
    "config.gpu_options.per_process_gpu_memory_fraction = 1.0\n",
    "\n",
    "k.tensorflow_backend.set_session(tf.Session(config=config))"
   ]
  },
  {
   "cell_type": "code",
   "execution_count": 0,
   "metadata": {
    "id": "GnJPPJWK2Qss",
    "colab_type": "code",
    "colab": {}
   },
   "outputs": [],
   "source": [
    "hg_model = HourglassModel(\n",
    "        images_dir=_IMAGES_DIR,\n",
    "        annotations_json_file=_ANNOTATIONS_JSON_FILE,\n",
    "        log_dir=LOG_DIR,\n",
    "        batch_size=BATCH_SIZE,\n",
    "        stacks_num=STACKS_NUM,\n",
    "        input_shape=INPUT_SHAPE,\n",
    "        output_shape=OUTPUT_SHAPE,\n",
    "    )"
   ]
  },
  {
   "cell_type": "code",
   "execution_count": 13,
   "metadata": {
    "id": "yHUBhllz2Qsw",
    "colab_type": "code",
    "outputId": "301b2bf8-2e93-4b70-dd10-9ee2ddfd5729",
    "colab": {
     "base_uri": "https://localhost:8080/",
     "height": 148.0
    }
   },
   "outputs": [
    {
     "name": "stdout",
     "output_type": "stream",
     "text": [
      "WARNING:tensorflow:From /usr/local/lib/python2.7/dist-packages/tensorflow/python/ops/resource_variable_ops.py:435: colocate_with (from tensorflow.python.framework.ops) is deprecated and will be removed in a future version.\n",
      "Instructions for updating:\n",
      "Colocations handled automatically by placer.\n"
     ]
    }
   ],
   "source": [
    "if CHECKPOINT_EPOCH is None:\n",
    "    hg_model.build()\n",
    "    hg_model.train(epochs=EPOCHS)\n",
    "else:\n",
    "    hg_model.resume_train(EPOCHS, CHECKPOINT_EPOCH)"
   ]
  }
 ],
 "metadata": {
  "colab": {
   "name": "train.ipynb",
   "version": "0.3.2",
   "provenance": []
  },
  "language_info": {
   "codemirror_mode": {
    "name": "ipython",
    "version": 2
   },
   "file_extension": ".py",
   "mimetype": "text/x-python",
   "name": "python",
   "nbconvert_exporter": "python",
   "pygments_lexer": "ipython2",
   "version": "2.7.6"
  },
  "kernelspec": {
   "name": "python2",
   "display_name": "Python 2"
  },
  "accelerator": "TPU"
 },
 "nbformat": 4,
 "nbformat_minor": 0
}
